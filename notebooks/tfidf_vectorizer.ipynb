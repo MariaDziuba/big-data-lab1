{
 "cells": [
  {
   "cell_type": "markdown",
   "id": "df7822bf-f307-4df4-b08b-0928fde12403",
   "metadata": {},
   "source": [
    "## Imports, downloading nltk packages"
   ]
  },
  {
   "cell_type": "code",
   "execution_count": 1,
   "id": "5dace1ef-1b1c-41da-ab02-d6bcb64ab2d1",
   "metadata": {
    "tags": []
   },
   "outputs": [],
   "source": [
    "import nltk\n",
    "import subprocess\n",
    "from typing import List\n",
    "import numpy as np"
   ]
  },
  {
   "cell_type": "code",
   "execution_count": 2,
   "id": "20b92fcb-3521-47e1-8475-f242b146039a",
   "metadata": {
    "tags": []
   },
   "outputs": [
    {
     "name": "stderr",
     "output_type": "stream",
     "text": [
      "[nltk_data] Downloading package wordnet to\n",
      "[nltk_data]     /Users/modzyuba1/nltk_data...\n",
      "[nltk_data]   Package wordnet is already up-to-date!\n"
     ]
    },
    {
     "data": {
      "text/plain": [
       "True"
      ]
     },
     "execution_count": 2,
     "metadata": {},
     "output_type": "execute_result"
    }
   ],
   "source": [
    "nltk.download('wordnet')"
   ]
  },
  {
   "cell_type": "code",
   "execution_count": 3,
   "id": "3cc24883-1815-4a8e-a293-7dcdc84fb95b",
   "metadata": {
    "tags": []
   },
   "outputs": [
    {
     "name": "stderr",
     "output_type": "stream",
     "text": [
      "[nltk_data] Downloading package punkt to /Users/modzyuba1/nltk_data...\n",
      "[nltk_data]   Package punkt is already up-to-date!\n"
     ]
    },
    {
     "data": {
      "text/plain": [
       "True"
      ]
     },
     "execution_count": 3,
     "metadata": {},
     "output_type": "execute_result"
    }
   ],
   "source": [
    "nltk.download('punkt')"
   ]
  },
  {
   "cell_type": "code",
   "execution_count": 4,
   "id": "f61f6ee1-d3a3-403c-91d1-f3dfa5f32daf",
   "metadata": {
    "tags": []
   },
   "outputs": [
    {
     "name": "stderr",
     "output_type": "stream",
     "text": [
      "[nltk_data] Downloading package stopwords to\n",
      "[nltk_data]     /Users/modzyuba1/nltk_data...\n",
      "[nltk_data]   Package stopwords is already up-to-date!\n"
     ]
    },
    {
     "data": {
      "text/plain": [
       "True"
      ]
     },
     "execution_count": 4,
     "metadata": {},
     "output_type": "execute_result"
    }
   ],
   "source": [
    "nltk.download('stopwords')"
   ]
  },
  {
   "cell_type": "code",
   "execution_count": 5,
   "id": "a142d014-dbfd-4b2f-aa51-b069835f78b4",
   "metadata": {
    "tags": []
   },
   "outputs": [],
   "source": [
    "from nltk.corpus import wordnet\n",
    "from nltk.stem import WordNetLemmatizer\n",
    "from nltk.corpus import stopwords\n",
    "from sklearn.feature_extraction.text import TfidfVectorizer\n",
    "from sklearn.naive_bayes import MultinomialNB\n",
    "import string\n",
    "import pandas as pd\n",
    "from sklearn.metrics import f1_score, accuracy_score, precision_score, recall_score, roc_auc_score"
   ]
  },
  {
   "cell_type": "markdown",
   "id": "494743e5-2580-4585-ac31-9c90946b966c",
   "metadata": {},
   "source": [
    "## Divide train data into train and validation splits "
   ]
  },
  {
   "cell_type": "code",
   "execution_count": 6,
   "id": "3bc6dcb8-9919-44fd-b760-f32f70c8e7c9",
   "metadata": {
    "tags": []
   },
   "outputs": [],
   "source": [
    "train_data = pd.read_csv(\"./../data/bbc_news_train.csv\")"
   ]
  },
  {
   "cell_type": "code",
   "execution_count": 8,
   "id": "e319c254-6d9d-4c68-96de-df7f1c271b0a",
   "metadata": {
    "tags": []
   },
   "outputs": [
    {
     "data": {
      "text/plain": [
       "1192"
      ]
     },
     "execution_count": 8,
     "metadata": {},
     "output_type": "execute_result"
    }
   ],
   "source": [
    "len(train_data)"
   ]
  },
  {
   "cell_type": "code",
   "execution_count": 9,
   "id": "aa0b1ab4-2ab9-4484-b90b-c58e32b21cbe",
   "metadata": {
    "tags": []
   },
   "outputs": [],
   "source": [
    "val_data_csv = train_data.iloc[298:]"
   ]
  },
  {
   "cell_type": "code",
   "execution_count": 10,
   "id": "06f19ef7-93aa-4a51-ab0e-8f80d13e87af",
   "metadata": {
    "tags": []
   },
   "outputs": [],
   "source": [
    "train_data_csv = train_data.iloc[298:]"
   ]
  },
  {
   "cell_type": "code",
   "execution_count": 60,
   "id": "d2d11fed-d5bb-4aaa-a24f-57bb8b682cbe",
   "metadata": {
    "tags": []
   },
   "outputs": [],
   "source": [
    "train_data_csv.to_csv(\"../data/bbc_news_train.csv\", index=False)"
   ]
  },
  {
   "cell_type": "code",
   "execution_count": 61,
   "id": "e7a9c4d1-46d3-4bef-a868-211c08d5aa3e",
   "metadata": {
    "tags": []
   },
   "outputs": [],
   "source": [
    "val_data_csv.to_csv(\"../data/bbc_news_val.csv\", index=False)"
   ]
  },
  {
   "cell_type": "markdown",
   "id": "1e15c174-7e36-405e-bd0a-59c0a1ce4553",
   "metadata": {},
   "source": [
    "## Load and preprocess data"
   ]
  },
  {
   "cell_type": "code",
   "execution_count": 36,
   "id": "0d417b61-926a-46f6-a838-e3ac385b10d6",
   "metadata": {
    "tags": []
   },
   "outputs": [],
   "source": [
    "train_data = pd.read_csv(\"./../data/bbc_news_train.csv\", index_col=[0])\n",
    "val_data = pd.read_csv(\"./../data/bbc_news_val.csv\", index_col=[0])\n",
    "test_data = pd.read_csv(\"./../data/bbc_news_test.csv\", index_col=[0])"
   ]
  },
  {
   "cell_type": "code",
   "execution_count": 37,
   "id": "a7d2f276-0629-4590-bd02-b6d91cca6809",
   "metadata": {
    "tags": []
   },
   "outputs": [],
   "source": [
    "train_data.to_csv(\"./../data/bbc_news_train.csv\", index=False)"
   ]
  },
  {
   "cell_type": "code",
   "execution_count": 38,
   "id": "91de4e64-1ccb-4ef9-a284-b9e1da7efa81",
   "metadata": {
    "tags": []
   },
   "outputs": [],
   "source": [
    "val_data.to_csv(\"./../data/bbc_news_val.csv\", index=False)"
   ]
  },
  {
   "cell_type": "code",
   "execution_count": 13,
   "id": "2c947b10-bd2b-471b-ad97-a2736b48b9b9",
   "metadata": {
    "tags": []
   },
   "outputs": [],
   "source": [
    "stop_words = stopwords.words('english')"
   ]
  },
  {
   "cell_type": "code",
   "execution_count": 14,
   "id": "259b0dcf-c856-4c92-8e53-8228598a5bbb",
   "metadata": {
    "tags": []
   },
   "outputs": [],
   "source": [
    "def clean_text(doc):\n",
    "    text = \"\".join([char for char in doc if char not in string.punctuation and not char.isdigit()])\n",
    "    \n",
    "    tokens = nltk.word_tokenize(text.lower())\n",
    "    \n",
    "    lemmatizer = WordNetLemmatizer()\n",
    "    tokens = [lemmatizer.lemmatize(token) for token in tokens if token not in stop_words]\n",
    "    \n",
    "    return ' '.join(tokens)"
   ]
  },
  {
   "cell_type": "code",
   "execution_count": 15,
   "id": "166dd862-a0d6-44a3-a61f-f2dad11b8a8f",
   "metadata": {
    "tags": []
   },
   "outputs": [],
   "source": [
    "tfidf_vectorizer = TfidfVectorizer(max_df=0.8, min_df=2, stop_words='english')"
   ]
  },
  {
   "cell_type": "code",
   "execution_count": 20,
   "id": "649dc9a6-fc24-404e-ad66-6e5919b2efdd",
   "metadata": {
    "tags": []
   },
   "outputs": [
    {
     "data": {
      "text/html": [
       "<div>\n",
       "<style scoped>\n",
       "    .dataframe tbody tr th:only-of-type {\n",
       "        vertical-align: middle;\n",
       "    }\n",
       "\n",
       "    .dataframe tbody tr th {\n",
       "        vertical-align: top;\n",
       "    }\n",
       "\n",
       "    .dataframe thead th {\n",
       "        text-align: right;\n",
       "    }\n",
       "</style>\n",
       "<table border=\"1\" class=\"dataframe\">\n",
       "  <thead>\n",
       "    <tr style=\"text-align: right;\">\n",
       "      <th></th>\n",
       "      <th>ArticleId</th>\n",
       "      <th>Text</th>\n",
       "      <th>Category</th>\n",
       "    </tr>\n",
       "  </thead>\n",
       "  <tbody>\n",
       "    <tr>\n",
       "      <th>298</th>\n",
       "      <td>25</td>\n",
       "      <td>mobile audio enters new dimension as mobile ph...</td>\n",
       "      <td>tech</td>\n",
       "    </tr>\n",
       "    <tr>\n",
       "      <th>299</th>\n",
       "      <td>292</td>\n",
       "      <td>freeze on anti-spam campaign a campaign by lyc...</td>\n",
       "      <td>tech</td>\n",
       "    </tr>\n",
       "    <tr>\n",
       "      <th>300</th>\n",
       "      <td>1916</td>\n",
       "      <td>no seasonal lift for house market a swathe of ...</td>\n",
       "      <td>business</td>\n",
       "    </tr>\n",
       "    <tr>\n",
       "      <th>301</th>\n",
       "      <td>428</td>\n",
       "      <td>microsoft takes on desktop search microsoft ha...</td>\n",
       "      <td>tech</td>\n",
       "    </tr>\n",
       "    <tr>\n",
       "      <th>302</th>\n",
       "      <td>435</td>\n",
       "      <td>s korean lender faces liquidation creditors of...</td>\n",
       "      <td>business</td>\n",
       "    </tr>\n",
       "  </tbody>\n",
       "</table>\n",
       "</div>"
      ],
      "text/plain": [
       "     ArticleId                                               Text  Category\n",
       "298         25  mobile audio enters new dimension as mobile ph...      tech\n",
       "299        292  freeze on anti-spam campaign a campaign by lyc...      tech\n",
       "300       1916  no seasonal lift for house market a swathe of ...  business\n",
       "301        428  microsoft takes on desktop search microsoft ha...      tech\n",
       "302        435  s korean lender faces liquidation creditors of...  business"
      ]
     },
     "execution_count": 20,
     "metadata": {},
     "output_type": "execute_result"
    }
   ],
   "source": [
    "train_data.head()"
   ]
  },
  {
   "cell_type": "code",
   "execution_count": 21,
   "id": "17687f13-ec55-4a99-b459-c13648cefc78",
   "metadata": {
    "tags": []
   },
   "outputs": [],
   "source": [
    "train_data['Clean_text'] = train_data['Text'].apply(lambda x: clean_text(x))\n",
    "X_train = train_data['Clean_text'].tolist()\n",
    "train_features = tfidf_vectorizer.fit_transform(X_train)\n",
    "y_train = train_data['Category'].to_list()"
   ]
  },
  {
   "cell_type": "code",
   "execution_count": 28,
   "id": "6cef1e1e-70b3-4ea3-934b-35ecfb655b72",
   "metadata": {
    "tags": []
   },
   "outputs": [],
   "source": [
    "val_data['Clean_text'] = val_data['Text'].apply(lambda x: clean_text(x))\n",
    "X_val = val_data['Clean_text'].tolist()\n",
    "val_features = tfidf_vectorizer.transform(X_val)\n",
    "y_val = val_data['Category'].to_list()"
   ]
  },
  {
   "cell_type": "code",
   "execution_count": null,
   "id": "2297a7b3-569b-4872-a8fd-f10690d6bff5",
   "metadata": {},
   "outputs": [],
   "source": [
    "test_data['Clean_text'] = test_data['Text'].apply(lambda x: clean_text(x))\n",
    "cleaned_texts = test_data['Clean_text'].tolist()\n",
    "test_features = tfidf_vectorizer.transform(cleaned_texts)"
   ]
  },
  {
   "cell_type": "code",
   "execution_count": 22,
   "id": "9039f8f1-2c31-4116-9b61-863aba5f905f",
   "metadata": {
    "tags": []
   },
   "outputs": [
    {
     "data": {
      "text/plain": [
       "list"
      ]
     },
     "execution_count": 22,
     "metadata": {},
     "output_type": "execute_result"
    }
   ],
   "source": [
    "type(X_train)"
   ]
  },
  {
   "cell_type": "markdown",
   "id": "187a976b-d9e6-494c-8f2d-0d81d07433b0",
   "metadata": {},
   "source": [
    "## Train a classifier and print the metrics on a validation set"
   ]
  },
  {
   "cell_type": "code",
   "execution_count": 24,
   "id": "91d8f565-5375-45c0-890e-d83108edf952",
   "metadata": {
    "tags": []
   },
   "outputs": [],
   "source": [
    "clf = MultinomialNB().fit(train_features, y_train)"
   ]
  },
  {
   "cell_type": "code",
   "execution_count": 30,
   "id": "0058f316-735e-4b91-9a52-2a339dc25325",
   "metadata": {
    "tags": []
   },
   "outputs": [],
   "source": [
    "predicted = clf.predict(val_features)"
   ]
  },
  {
   "cell_type": "code",
   "execution_count": 34,
   "id": "a9170376-afac-470f-b88f-ee563e47fd35",
   "metadata": {
    "tags": []
   },
   "outputs": [
    {
     "data": {
      "text/plain": [
       "0.9697986577181208"
      ]
     },
     "execution_count": 34,
     "metadata": {},
     "output_type": "execute_result"
    }
   ],
   "source": [
    "f1_score(y_val, predicted, average='micro')"
   ]
  },
  {
   "cell_type": "code",
   "execution_count": 35,
   "id": "c7a43d44-811b-4b46-8cd5-4cc127f2c6b3",
   "metadata": {
    "tags": []
   },
   "outputs": [
    {
     "data": {
      "text/plain": [
       "0.9679329681550314"
      ]
     },
     "execution_count": 35,
     "metadata": {},
     "output_type": "execute_result"
    }
   ],
   "source": [
    "f1_score(y_val, predicted, average='macro')"
   ]
  },
  {
   "cell_type": "code",
   "execution_count": 85,
   "id": "130e920d-c1e7-4e32-86e5-d479d62b5752",
   "metadata": {
    "tags": []
   },
   "outputs": [],
   "source": [
    "metrics = {\n",
    "    \"f1_macro\" : (f1_score, \"macro\"),\n",
    "    \"accuracy\" : (accuracy_score, \"\"),\n",
    "    \"precision_macro\" : (precision_score, \"macro\"),\n",
    "    \"recall_macro\" : (recall_score, \"macro\"),\n",
    "}"
   ]
  },
  {
   "cell_type": "code",
   "execution_count": 86,
   "id": "602a394b-64cd-4829-be56-33d85b66bb11",
   "metadata": {
    "tags": []
   },
   "outputs": [],
   "source": [
    "metrics_list = []\n",
    "values_list = []"
   ]
  },
  {
   "cell_type": "code",
   "execution_count": 87,
   "id": "b84d08c8-123f-4718-9954-9b756b56b1a9",
   "metadata": {},
   "outputs": [
    {
     "name": "stdout",
     "output_type": "stream",
     "text": [
      "f1_macro\n",
      "macro\n",
      "accuracy\n",
      "precision_macro\n",
      "macro\n",
      "recall_macro\n",
      "macro\n"
     ]
    }
   ],
   "source": [
    "for k, v in metrics.items():\n",
    "    metrics_list.append(k)\n",
    "    print(k)\n",
    "    if v[1] == \"\":\n",
    "        values_list.append(v[0](y_val, predicted))\n",
    "    else:\n",
    "        print(v[1])\n",
    "        values_list.append(v[0](y_val, predicted, average=v[1]))"
   ]
  },
  {
   "cell_type": "code",
   "execution_count": 84,
   "id": "1591002a-276c-448f-8e84-675e0f68cace",
   "metadata": {
    "tags": []
   },
   "outputs": [
    {
     "data": {
      "text/plain": [
       "['f1_micro', 'accuracy', 'precision_micro', 'recall_micro']"
      ]
     },
     "execution_count": 84,
     "metadata": {},
     "output_type": "execute_result"
    }
   ],
   "source": [
    "metrics_list"
   ]
  },
  {
   "cell_type": "code",
   "execution_count": 88,
   "id": "17c63d69-67c5-4e08-985f-3514daed1f07",
   "metadata": {
    "tags": []
   },
   "outputs": [
    {
     "data": {
      "text/plain": [
       "[0.983424552343841, 0.9839142091152815, 0.9853081421502473, 0.9818761178180193]"
      ]
     },
     "execution_count": 88,
     "metadata": {},
     "output_type": "execute_result"
    }
   ],
   "source": [
    "values_list"
   ]
  },
  {
   "cell_type": "markdown",
   "id": "8f263f1e-1d66-4f2b-83cc-f842b9b99aca",
   "metadata": {},
   "source": [
    "## Predict on a test set "
   ]
  },
  {
   "cell_type": "code",
   "execution_count": 21,
   "id": "ce29f1f9-ba20-46e6-aef4-1fbed55b1c92",
   "metadata": {
    "tags": []
   },
   "outputs": [],
   "source": [
    "predicted = clf.predict(test_features)"
   ]
  },
  {
   "cell_type": "code",
   "execution_count": 24,
   "id": "6ca58887-10b5-43fc-9a6f-35bd39187ff2",
   "metadata": {
    "tags": []
   },
   "outputs": [
    {
     "data": {
      "text/plain": [
       "735"
      ]
     },
     "execution_count": 24,
     "metadata": {},
     "output_type": "execute_result"
    }
   ],
   "source": [
    "len(test_data['ArticleId'].to_list())"
   ]
  },
  {
   "cell_type": "code",
   "execution_count": 25,
   "id": "6ed27a67-c714-4a63-b87a-6a41f7fa953d",
   "metadata": {
    "tags": []
   },
   "outputs": [
    {
     "data": {
      "text/plain": [
       "735"
      ]
     },
     "execution_count": 25,
     "metadata": {},
     "output_type": "execute_result"
    }
   ],
   "source": [
    "len(test_data)"
   ]
  },
  {
   "cell_type": "code",
   "execution_count": 26,
   "id": "d1f491e3-9ccd-4319-9bc4-acfdd6111751",
   "metadata": {
    "tags": []
   },
   "outputs": [
    {
     "data": {
      "text/plain": [
       "735"
      ]
     },
     "execution_count": 26,
     "metadata": {},
     "output_type": "execute_result"
    }
   ],
   "source": [
    "len(predicted.tolist())"
   ]
  },
  {
   "cell_type": "code",
   "execution_count": 28,
   "id": "4e6d516c-c212-48ac-bf85-10e1ff311184",
   "metadata": {
    "tags": []
   },
   "outputs": [],
   "source": [
    "submission = pd.DataFrame({'ArticleId': test_data['ArticleId'].to_list(), 'Category': predicted.tolist()}) "
   ]
  },
  {
   "cell_type": "code",
   "execution_count": null,
   "id": "72a5c2fb-c3b1-497f-b974-a81edd3f6b50",
   "metadata": {},
   "outputs": [],
   "source": [
    "submission.to_csv('submission.csv', index=False)"
   ]
  }
 ],
 "metadata": {
  "kernelspec": {
   "display_name": "Python 3 (ipykernel)",
   "language": "python",
   "name": "python3"
  },
  "language_info": {
   "codemirror_mode": {
    "name": "ipython",
    "version": 3
   },
   "file_extension": ".py",
   "mimetype": "text/x-python",
   "name": "python",
   "nbconvert_exporter": "python",
   "pygments_lexer": "ipython3",
   "version": "3.11.5"
  }
 },
 "nbformat": 4,
 "nbformat_minor": 5
}
