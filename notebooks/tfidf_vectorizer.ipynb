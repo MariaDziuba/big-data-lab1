{
 "cells": [
  {
   "cell_type": "markdown",
   "id": "df7822bf-f307-4df4-b08b-0928fde12403",
   "metadata": {},
   "source": [
    "## Imports, downloading nltk packages"
   ]
  },
  {
   "cell_type": "code",
   "execution_count": 56,
   "id": "5dace1ef-1b1c-41da-ab02-d6bcb64ab2d1",
   "metadata": {
    "tags": []
   },
   "outputs": [],
   "source": [
    "import nltk\n",
    "import subprocess\n",
    "from typing import List\n",
    "import numpy as np"
   ]
  },
  {
   "cell_type": "code",
   "execution_count": 57,
   "id": "20b92fcb-3521-47e1-8475-f242b146039a",
   "metadata": {
    "tags": []
   },
   "outputs": [
    {
     "name": "stderr",
     "output_type": "stream",
     "text": [
      "[nltk_data] Downloading package wordnet to\n",
      "[nltk_data]     /Users/modzyuba1/nltk_data...\n",
      "[nltk_data]   Package wordnet is already up-to-date!\n"
     ]
    },
    {
     "data": {
      "text/plain": [
       "True"
      ]
     },
     "execution_count": 57,
     "metadata": {},
     "output_type": "execute_result"
    }
   ],
   "source": [
    "nltk.download('wordnet')"
   ]
  },
  {
   "cell_type": "code",
   "execution_count": 58,
   "id": "3cc24883-1815-4a8e-a293-7dcdc84fb95b",
   "metadata": {
    "tags": []
   },
   "outputs": [
    {
     "name": "stderr",
     "output_type": "stream",
     "text": [
      "[nltk_data] Downloading package punkt to /Users/modzyuba1/nltk_data...\n",
      "[nltk_data]   Package punkt is already up-to-date!\n"
     ]
    },
    {
     "data": {
      "text/plain": [
       "True"
      ]
     },
     "execution_count": 58,
     "metadata": {},
     "output_type": "execute_result"
    }
   ],
   "source": [
    "nltk.download('punkt')"
   ]
  },
  {
   "cell_type": "code",
   "execution_count": 59,
   "id": "f61f6ee1-d3a3-403c-91d1-f3dfa5f32daf",
   "metadata": {
    "tags": []
   },
   "outputs": [
    {
     "name": "stderr",
     "output_type": "stream",
     "text": [
      "[nltk_data] Downloading package stopwords to\n",
      "[nltk_data]     /Users/modzyuba1/nltk_data...\n",
      "[nltk_data]   Package stopwords is already up-to-date!\n"
     ]
    },
    {
     "data": {
      "text/plain": [
       "True"
      ]
     },
     "execution_count": 59,
     "metadata": {},
     "output_type": "execute_result"
    }
   ],
   "source": [
    "nltk.download('stopwords')"
   ]
  },
  {
   "cell_type": "code",
   "execution_count": 120,
   "id": "a142d014-dbfd-4b2f-aa51-b069835f78b4",
   "metadata": {
    "tags": []
   },
   "outputs": [],
   "source": [
    "from nltk.corpus import wordnet\n",
    "from nltk.stem import WordNetLemmatizer\n",
    "from nltk.corpus import stopwords\n",
    "from sklearn.feature_extraction.text import TfidfVectorizer\n",
    "from sklearn.naive_bayes import MultinomialNB\n",
    "import string\n",
    "import pandas as pd\n",
    "from sklearn.metrics import f1_score, accuracy_score, precision_score, recall_score, roc_auc_score\n",
    "import configparser\n",
    "import os\n",
    "import sys\n",
    "from predict import Predictor\n",
    "from train import Trainer\n",
    "from validate import Validator\n",
    "from preprocess import Preprocessor\n",
    "from sklearn.dummy import DummyClassifier\n",
    "from utils import save_ckpt\n",
    "from typing import List, Tuple"
   ]
  },
  {
   "cell_type": "markdown",
   "id": "494743e5-2580-4585-ac31-9c90946b966c",
   "metadata": {},
   "source": [
    "## Divide train data into train and validation splits "
   ]
  },
  {
   "cell_type": "code",
   "execution_count": 51,
   "id": "3bc6dcb8-9919-44fd-b760-f32f70c8e7c9",
   "metadata": {
    "tags": []
   },
   "outputs": [],
   "source": [
    "train_data = pd.read_csv(\"./../data/bbc_news_train.csv\")"
   ]
  },
  {
   "cell_type": "code",
   "execution_count": 8,
   "id": "e319c254-6d9d-4c68-96de-df7f1c271b0a",
   "metadata": {
    "tags": []
   },
   "outputs": [
    {
     "data": {
      "text/plain": [
       "1192"
      ]
     },
     "execution_count": 8,
     "metadata": {},
     "output_type": "execute_result"
    }
   ],
   "source": [
    "len(train_data)"
   ]
  },
  {
   "cell_type": "code",
   "execution_count": 9,
   "id": "aa0b1ab4-2ab9-4484-b90b-c58e32b21cbe",
   "metadata": {
    "tags": []
   },
   "outputs": [],
   "source": [
    "val_data_csv = train_data.iloc[298:]"
   ]
  },
  {
   "cell_type": "code",
   "execution_count": 10,
   "id": "06f19ef7-93aa-4a51-ab0e-8f80d13e87af",
   "metadata": {
    "tags": []
   },
   "outputs": [],
   "source": [
    "train_data_csv = train_data.iloc[298:]"
   ]
  },
  {
   "cell_type": "code",
   "execution_count": 60,
   "id": "d2d11fed-d5bb-4aaa-a24f-57bb8b682cbe",
   "metadata": {
    "tags": []
   },
   "outputs": [],
   "source": [
    "train_data_csv.to_csv(\"../data/bbc_news_train.csv\", index=False)"
   ]
  },
  {
   "cell_type": "code",
   "execution_count": 61,
   "id": "e7a9c4d1-46d3-4bef-a868-211c08d5aa3e",
   "metadata": {
    "tags": []
   },
   "outputs": [],
   "source": [
    "val_data_csv.to_csv(\"../data/bbc_news_val.csv\", index=False)"
   ]
  },
  {
   "cell_type": "markdown",
   "id": "1e15c174-7e36-405e-bd0a-59c0a1ce4553",
   "metadata": {},
   "source": [
    "## Load and preprocess data"
   ]
  },
  {
   "cell_type": "code",
   "execution_count": 36,
   "id": "0d417b61-926a-46f6-a838-e3ac385b10d6",
   "metadata": {
    "tags": []
   },
   "outputs": [],
   "source": [
    "train_data = pd.read_csv(\"./../data/bbc_news_train.csv\", index_col=[0])\n",
    "val_data = pd.read_csv(\"./../data/bbc_news_val.csv\", index_col=[0])\n",
    "test_data = pd.read_csv(\"./../data/bbc_news_test.csv\", index_col=[0])"
   ]
  },
  {
   "cell_type": "code",
   "execution_count": 37,
   "id": "a7d2f276-0629-4590-bd02-b6d91cca6809",
   "metadata": {
    "tags": []
   },
   "outputs": [],
   "source": [
    "train_data.to_csv(\"./../data/bbc_news_train.csv\", index=False)"
   ]
  },
  {
   "cell_type": "code",
   "execution_count": 38,
   "id": "91de4e64-1ccb-4ef9-a284-b9e1da7efa81",
   "metadata": {
    "tags": []
   },
   "outputs": [],
   "source": [
    "val_data.to_csv(\"./../data/bbc_news_val.csv\", index=False)"
   ]
  },
  {
   "cell_type": "code",
   "execution_count": 61,
   "id": "2c947b10-bd2b-471b-ad97-a2736b48b9b9",
   "metadata": {
    "tags": []
   },
   "outputs": [],
   "source": [
    "stop_words = stopwords.words('english')"
   ]
  },
  {
   "cell_type": "code",
   "execution_count": 62,
   "id": "259b0dcf-c856-4c92-8e53-8228598a5bbb",
   "metadata": {
    "tags": []
   },
   "outputs": [],
   "source": [
    "def clean_text(doc):\n",
    "    text = \"\".join([char for char in doc if char not in string.punctuation and not char.isdigit()])\n",
    "    \n",
    "    tokens = nltk.word_tokenize(text.lower())\n",
    "    \n",
    "    lemmatizer = WordNetLemmatizer()\n",
    "    tokens = [lemmatizer.lemmatize(token) for token in tokens if token not in stop_words]\n",
    "    \n",
    "    return ' '.join(tokens)"
   ]
  },
  {
   "cell_type": "code",
   "execution_count": 65,
   "id": "166dd862-a0d6-44a3-a61f-f2dad11b8a8f",
   "metadata": {
    "tags": []
   },
   "outputs": [],
   "source": [
    "tfidf_vectorizer = TfidfVectorizer(max_df=0.8, min_df=2, stop_words='english')"
   ]
  },
  {
   "cell_type": "code",
   "execution_count": 53,
   "id": "649dc9a6-fc24-404e-ad66-6e5919b2efdd",
   "metadata": {
    "tags": []
   },
   "outputs": [
    {
     "data": {
      "text/html": [
       "<div>\n",
       "<style scoped>\n",
       "    .dataframe tbody tr th:only-of-type {\n",
       "        vertical-align: middle;\n",
       "    }\n",
       "\n",
       "    .dataframe tbody tr th {\n",
       "        vertical-align: top;\n",
       "    }\n",
       "\n",
       "    .dataframe thead th {\n",
       "        text-align: right;\n",
       "    }\n",
       "</style>\n",
       "<table border=\"1\" class=\"dataframe\">\n",
       "  <thead>\n",
       "    <tr style=\"text-align: right;\">\n",
       "      <th></th>\n",
       "      <th>ArticleId</th>\n",
       "      <th>Text</th>\n",
       "      <th>Category</th>\n",
       "    </tr>\n",
       "  </thead>\n",
       "  <tbody>\n",
       "    <tr>\n",
       "      <th>0</th>\n",
       "      <td>25</td>\n",
       "      <td>mobile audio enters new dimension as mobile ph...</td>\n",
       "      <td>tech</td>\n",
       "    </tr>\n",
       "    <tr>\n",
       "      <th>1</th>\n",
       "      <td>292</td>\n",
       "      <td>freeze on anti-spam campaign a campaign by lyc...</td>\n",
       "      <td>tech</td>\n",
       "    </tr>\n",
       "    <tr>\n",
       "      <th>2</th>\n",
       "      <td>1916</td>\n",
       "      <td>no seasonal lift for house market a swathe of ...</td>\n",
       "      <td>business</td>\n",
       "    </tr>\n",
       "    <tr>\n",
       "      <th>3</th>\n",
       "      <td>428</td>\n",
       "      <td>microsoft takes on desktop search microsoft ha...</td>\n",
       "      <td>tech</td>\n",
       "    </tr>\n",
       "    <tr>\n",
       "      <th>4</th>\n",
       "      <td>435</td>\n",
       "      <td>s korean lender faces liquidation creditors of...</td>\n",
       "      <td>business</td>\n",
       "    </tr>\n",
       "  </tbody>\n",
       "</table>\n",
       "</div>"
      ],
      "text/plain": [
       "   ArticleId                                               Text  Category\n",
       "0         25  mobile audio enters new dimension as mobile ph...      tech\n",
       "1        292  freeze on anti-spam campaign a campaign by lyc...      tech\n",
       "2       1916  no seasonal lift for house market a swathe of ...  business\n",
       "3        428  microsoft takes on desktop search microsoft ha...      tech\n",
       "4        435  s korean lender faces liquidation creditors of...  business"
      ]
     },
     "execution_count": 53,
     "metadata": {},
     "output_type": "execute_result"
    }
   ],
   "source": [
    "train_data.head()"
   ]
  },
  {
   "cell_type": "code",
   "execution_count": 66,
   "id": "17687f13-ec55-4a99-b459-c13648cefc78",
   "metadata": {
    "tags": []
   },
   "outputs": [],
   "source": [
    "train_data['Clean_text'] = train_data['Text'].apply(lambda x: clean_text(x))\n",
    "X_train = train_data['Clean_text'].tolist()\n",
    "train_features = tfidf_vectorizer.fit_transform(X_train)\n",
    "y_train = train_data['Category'].to_list()"
   ]
  },
  {
   "cell_type": "code",
   "execution_count": 28,
   "id": "6cef1e1e-70b3-4ea3-934b-35ecfb655b72",
   "metadata": {
    "tags": []
   },
   "outputs": [],
   "source": [
    "val_data['Clean_text'] = val_data['Text'].apply(lambda x: clean_text(x))\n",
    "X_val = val_data['Clean_text'].tolist()\n",
    "val_features = tfidf_vectorizer.transform(X_val)\n",
    "y_val = val_data['Category'].to_list()"
   ]
  },
  {
   "cell_type": "code",
   "execution_count": null,
   "id": "2297a7b3-569b-4872-a8fd-f10690d6bff5",
   "metadata": {},
   "outputs": [],
   "source": [
    "test_data['Clean_text'] = test_data['Text'].apply(lambda x: clean_text(x))\n",
    "cleaned_texts = test_data['Clean_text'].tolist()\n",
    "test_features = tfidf_vectorizer.transform(cleaned_texts)"
   ]
  },
  {
   "cell_type": "code",
   "execution_count": 22,
   "id": "9039f8f1-2c31-4116-9b61-863aba5f905f",
   "metadata": {
    "tags": []
   },
   "outputs": [
    {
     "data": {
      "text/plain": [
       "list"
      ]
     },
     "execution_count": 22,
     "metadata": {},
     "output_type": "execute_result"
    }
   ],
   "source": [
    "type(X_train)"
   ]
  },
  {
   "cell_type": "markdown",
   "id": "187a976b-d9e6-494c-8f2d-0d81d07433b0",
   "metadata": {},
   "source": [
    "## Train a classifier and print the metrics on a validation set"
   ]
  },
  {
   "cell_type": "code",
   "execution_count": 24,
   "id": "91d8f565-5375-45c0-890e-d83108edf952",
   "metadata": {
    "tags": []
   },
   "outputs": [],
   "source": [
    "clf = MultinomialNB().fit(train_features, y_train)"
   ]
  },
  {
   "cell_type": "code",
   "execution_count": 30,
   "id": "0058f316-735e-4b91-9a52-2a339dc25325",
   "metadata": {
    "tags": []
   },
   "outputs": [],
   "source": [
    "predicted = clf.predict(val_features)"
   ]
  },
  {
   "cell_type": "code",
   "execution_count": 34,
   "id": "a9170376-afac-470f-b88f-ee563e47fd35",
   "metadata": {
    "tags": []
   },
   "outputs": [
    {
     "data": {
      "text/plain": [
       "0.9697986577181208"
      ]
     },
     "execution_count": 34,
     "metadata": {},
     "output_type": "execute_result"
    }
   ],
   "source": [
    "f1_score(y_val, predicted, average='micro')"
   ]
  },
  {
   "cell_type": "code",
   "execution_count": 35,
   "id": "c7a43d44-811b-4b46-8cd5-4cc127f2c6b3",
   "metadata": {
    "tags": []
   },
   "outputs": [
    {
     "data": {
      "text/plain": [
       "0.9679329681550314"
      ]
     },
     "execution_count": 35,
     "metadata": {},
     "output_type": "execute_result"
    }
   ],
   "source": [
    "f1_score(y_val, predicted, average='macro')"
   ]
  },
  {
   "cell_type": "code",
   "execution_count": 85,
   "id": "130e920d-c1e7-4e32-86e5-d479d62b5752",
   "metadata": {
    "tags": []
   },
   "outputs": [],
   "source": [
    "metrics = {\n",
    "    \"f1_macro\" : (f1_score, \"macro\"),\n",
    "    \"accuracy\" : (accuracy_score, \"\"),\n",
    "    \"precision_macro\" : (precision_score, \"macro\"),\n",
    "    \"recall_macro\" : (recall_score, \"macro\"),\n",
    "}"
   ]
  },
  {
   "cell_type": "code",
   "execution_count": 86,
   "id": "602a394b-64cd-4829-be56-33d85b66bb11",
   "metadata": {
    "tags": []
   },
   "outputs": [],
   "source": [
    "metrics_list = []\n",
    "values_list = []"
   ]
  },
  {
   "cell_type": "code",
   "execution_count": 87,
   "id": "b84d08c8-123f-4718-9954-9b756b56b1a9",
   "metadata": {},
   "outputs": [
    {
     "name": "stdout",
     "output_type": "stream",
     "text": [
      "f1_macro\n",
      "macro\n",
      "accuracy\n",
      "precision_macro\n",
      "macro\n",
      "recall_macro\n",
      "macro\n"
     ]
    }
   ],
   "source": [
    "for k, v in metrics.items():\n",
    "    metrics_list.append(k)\n",
    "    print(k)\n",
    "    if v[1] == \"\":\n",
    "        values_list.append(v[0](y_val, predicted))\n",
    "    else:\n",
    "        print(v[1])\n",
    "        values_list.append(v[0](y_val, predicted, average=v[1]))"
   ]
  },
  {
   "cell_type": "code",
   "execution_count": 84,
   "id": "1591002a-276c-448f-8e84-675e0f68cace",
   "metadata": {
    "tags": []
   },
   "outputs": [
    {
     "data": {
      "text/plain": [
       "['f1_micro', 'accuracy', 'precision_micro', 'recall_micro']"
      ]
     },
     "execution_count": 84,
     "metadata": {},
     "output_type": "execute_result"
    }
   ],
   "source": [
    "metrics_list"
   ]
  },
  {
   "cell_type": "code",
   "execution_count": 88,
   "id": "17c63d69-67c5-4e08-985f-3514daed1f07",
   "metadata": {
    "tags": []
   },
   "outputs": [
    {
     "data": {
      "text/plain": [
       "[0.983424552343841, 0.9839142091152815, 0.9853081421502473, 0.9818761178180193]"
      ]
     },
     "execution_count": 88,
     "metadata": {},
     "output_type": "execute_result"
    }
   ],
   "source": [
    "values_list"
   ]
  },
  {
   "cell_type": "markdown",
   "id": "8f263f1e-1d66-4f2b-83cc-f842b9b99aca",
   "metadata": {},
   "source": [
    "## Predict on a test set "
   ]
  },
  {
   "cell_type": "code",
   "execution_count": 21,
   "id": "ce29f1f9-ba20-46e6-aef4-1fbed55b1c92",
   "metadata": {
    "tags": []
   },
   "outputs": [],
   "source": [
    "predicted = clf.predict(test_features)"
   ]
  },
  {
   "cell_type": "code",
   "execution_count": 24,
   "id": "6ca58887-10b5-43fc-9a6f-35bd39187ff2",
   "metadata": {
    "tags": []
   },
   "outputs": [
    {
     "data": {
      "text/plain": [
       "735"
      ]
     },
     "execution_count": 24,
     "metadata": {},
     "output_type": "execute_result"
    }
   ],
   "source": [
    "len(test_data['ArticleId'].to_list())"
   ]
  },
  {
   "cell_type": "code",
   "execution_count": 25,
   "id": "6ed27a67-c714-4a63-b87a-6a41f7fa953d",
   "metadata": {
    "tags": []
   },
   "outputs": [
    {
     "data": {
      "text/plain": [
       "735"
      ]
     },
     "execution_count": 25,
     "metadata": {},
     "output_type": "execute_result"
    }
   ],
   "source": [
    "len(test_data)"
   ]
  },
  {
   "cell_type": "code",
   "execution_count": 26,
   "id": "d1f491e3-9ccd-4319-9bc4-acfdd6111751",
   "metadata": {
    "tags": []
   },
   "outputs": [
    {
     "data": {
      "text/plain": [
       "735"
      ]
     },
     "execution_count": 26,
     "metadata": {},
     "output_type": "execute_result"
    }
   ],
   "source": [
    "len(predicted.tolist())"
   ]
  },
  {
   "cell_type": "code",
   "execution_count": 28,
   "id": "4e6d516c-c212-48ac-bf85-10e1ff311184",
   "metadata": {
    "tags": []
   },
   "outputs": [],
   "source": [
    "submission = pd.DataFrame({'ArticleId': test_data['ArticleId'].to_list(), 'Category': predicted.tolist()}) "
   ]
  },
  {
   "cell_type": "code",
   "execution_count": null,
   "id": "72a5c2fb-c3b1-497f-b974-a81edd3f6b50",
   "metadata": {},
   "outputs": [],
   "source": [
    "submission.to_csv('submission.csv', index=False)"
   ]
  },
  {
   "cell_type": "markdown",
   "id": "4ea9a42d-7f0d-4ce3-8181-6cf7f3ac8546",
   "metadata": {},
   "source": [
    "## Tests: predict"
   ]
  },
  {
   "cell_type": "code",
   "execution_count": 84,
   "id": "b86faac0-8c71-4478-b5aa-2c8245083d94",
   "metadata": {
    "tags": []
   },
   "outputs": [
    {
     "data": {
      "text/plain": [
       "['/Users/modzyuba1/ITMO/big-data-lab1/config.ini']"
      ]
     },
     "execution_count": 84,
     "metadata": {},
     "output_type": "execute_result"
    }
   ],
   "source": [
    "config = configparser.ConfigParser()\n",
    "config.read('/Users/modzyuba1/ITMO/big-data-lab1/config.ini')"
   ]
  },
  {
   "cell_type": "code",
   "execution_count": 4,
   "id": "4e911ac0-0900-434d-a5b7-7db311544bb4",
   "metadata": {
    "tags": []
   },
   "outputs": [],
   "source": [
    "PROJECT_ROOT = \"/Users/modzyuba1/ITMO/big-data-lab1/\""
   ]
  },
  {
   "cell_type": "code",
   "execution_count": 47,
   "id": "1dcc4e90-882c-4ed7-83d8-0f6a23558699",
   "metadata": {
    "tags": []
   },
   "outputs": [
    {
     "ename": "FileExistsError",
     "evalue": "[Errno 17] File exists: '/Users/modzyuba1/ITMO/big-data-lab1/tmp'",
     "output_type": "error",
     "traceback": [
      "\u001b[0;31m---------------------------------------------------------------------------\u001b[0m",
      "\u001b[0;31mFileExistsError\u001b[0m                           Traceback (most recent call last)",
      "Cell \u001b[0;32mIn[47], line 1\u001b[0m\n\u001b[0;32m----> 1\u001b[0m os\u001b[38;5;241m.\u001b[39mmkdir(os\u001b[38;5;241m.\u001b[39mpath\u001b[38;5;241m.\u001b[39mjoin(PROJECT_ROOT, \u001b[38;5;124m\"\u001b[39m\u001b[38;5;124mtmp\u001b[39m\u001b[38;5;124m\"\u001b[39m))\n",
      "\u001b[0;31mFileExistsError\u001b[0m: [Errno 17] File exists: '/Users/modzyuba1/ITMO/big-data-lab1/tmp'"
     ]
    }
   ],
   "source": [
    "os.mkdir(os.path.join(PROJECT_ROOT, \"tmp\"))"
   ]
  },
  {
   "cell_type": "code",
   "execution_count": 13,
   "id": "b09745ef-5afa-451c-8448-108318ada347",
   "metadata": {
    "tags": []
   },
   "outputs": [],
   "source": [
    "train_df = pd.DataFrame({\n",
    "    \"ArticleId\": [1, 2],\n",
    "    \"Text\": [\"Business is good!\", \"Football is a popular sport\"],\n",
    "    \"Category\": [\"business\", \"sport\"]\n",
    "})"
   ]
  },
  {
   "cell_type": "code",
   "execution_count": 14,
   "id": "fd26d1c2-4c56-49a8-b44a-ad3358190e44",
   "metadata": {
    "tags": []
   },
   "outputs": [
    {
     "data": {
      "text/html": [
       "<div>\n",
       "<style scoped>\n",
       "    .dataframe tbody tr th:only-of-type {\n",
       "        vertical-align: middle;\n",
       "    }\n",
       "\n",
       "    .dataframe tbody tr th {\n",
       "        vertical-align: top;\n",
       "    }\n",
       "\n",
       "    .dataframe thead th {\n",
       "        text-align: right;\n",
       "    }\n",
       "</style>\n",
       "<table border=\"1\" class=\"dataframe\">\n",
       "  <thead>\n",
       "    <tr style=\"text-align: right;\">\n",
       "      <th></th>\n",
       "      <th>ArticleId</th>\n",
       "      <th>Text</th>\n",
       "      <th>Category</th>\n",
       "    </tr>\n",
       "  </thead>\n",
       "  <tbody>\n",
       "    <tr>\n",
       "      <th>0</th>\n",
       "      <td>1</td>\n",
       "      <td>Business is good!</td>\n",
       "      <td>business</td>\n",
       "    </tr>\n",
       "    <tr>\n",
       "      <th>1</th>\n",
       "      <td>2</td>\n",
       "      <td>Football is a popular sport</td>\n",
       "      <td>sport</td>\n",
       "    </tr>\n",
       "  </tbody>\n",
       "</table>\n",
       "</div>"
      ],
      "text/plain": [
       "   ArticleId                         Text  Category\n",
       "0          1            Business is good!  business\n",
       "1          2  Football is a popular sport     sport"
      ]
     },
     "execution_count": 14,
     "metadata": {},
     "output_type": "execute_result"
    }
   ],
   "source": [
    "train_df.head()"
   ]
  },
  {
   "cell_type": "code",
   "execution_count": 51,
   "id": "a653e350-925b-43a4-b9fc-306e5e21b726",
   "metadata": {
    "tags": []
   },
   "outputs": [],
   "source": [
    "train_df.to_csv(os.path.join(PROJECT_ROOT, \"tmp\", \"train_tmp.csv\"), index=False)"
   ]
  },
  {
   "cell_type": "code",
   "execution_count": 11,
   "id": "e2a50726-a678-4229-b626-a7ce9c563135",
   "metadata": {
    "tags": []
   },
   "outputs": [],
   "source": [
    "path_to_test_data = os.path.join(PROJECT_ROOT, \"tmp\", \"train_tmp.csv\")\n",
    "path_to_vectorizer_ck\n",
    "\n",
    "pt = os.path.join(PROJECT_ROOT, config['vectorizer']['path_to_vectorizer_ckpt'])\n",
    "path_to_model_ckpt = os.path.join(PROJECT_ROOT, config['model']['path_to_model_ckpt'])\n",
    "path_to_submission = os.path.join(PROJECT_ROOT, \"tmp\", \"submission_tmp.csv\")"
   ]
  },
  {
   "cell_type": "code",
   "execution_count": 5,
   "id": "f2ee3083-7d46-4c4f-90f3-bfbdef37d946",
   "metadata": {
    "tags": []
   },
   "outputs": [],
   "source": [
    "sys.path.append(os.path.join(PROJECT_ROOT, \"src\"))"
   ]
  },
  {
   "cell_type": "code",
   "execution_count": 65,
   "id": "da6222d6-e123-434d-b126-dd35c378da4b",
   "metadata": {
    "tags": []
   },
   "outputs": [
    {
     "data": {
      "text/plain": [
       "'/Users/modzyuba1/ITMO/big-data-lab1/ckpts/tfidf_vectorizer.pkl'"
      ]
     },
     "execution_count": 65,
     "metadata": {},
     "output_type": "execute_result"
    }
   ],
   "source": [
    "path_to_vectorizer_ckpt"
   ]
  },
  {
   "cell_type": "code",
   "execution_count": 12,
   "id": "7471b41e-b418-4af4-8358-12a61aeddfe4",
   "metadata": {
    "tags": []
   },
   "outputs": [
    {
     "name": "stderr",
     "output_type": "stream",
     "text": [
      "/Users/modzyuba1/anaconda3/lib/python3.11/site-packages/sklearn/base.py:347: InconsistentVersionWarning: Trying to unpickle estimator MultinomialNB from version 1.4.1.post1 when using version 1.3.0. This might lead to breaking code or invalid results. Use at your own risk. For more info please refer to:\n",
      "https://scikit-learn.org/stable/model_persistence.html#security-maintainability-limitations\n",
      "  warnings.warn(\n",
      "[nltk_data] Downloading package wordnet to\n",
      "[nltk_data]     /Users/modzyuba1/nltk_data...\n",
      "[nltk_data]   Package wordnet is already up-to-date!\n",
      "[nltk_data] Downloading package punkt to /Users/modzyuba1/nltk_data...\n",
      "[nltk_data]   Package punkt is already up-to-date!\n",
      "[nltk_data] Downloading package stopwords to\n",
      "[nltk_data]     /Users/modzyuba1/nltk_data...\n",
      "[nltk_data]   Package stopwords is already up-to-date!\n",
      "/Users/modzyuba1/anaconda3/lib/python3.11/site-packages/sklearn/base.py:347: InconsistentVersionWarning: Trying to unpickle estimator TfidfTransformer from version 1.4.1.post1 when using version 1.3.0. This might lead to breaking code or invalid results. Use at your own risk. For more info please refer to:\n",
      "https://scikit-learn.org/stable/model_persistence.html#security-maintainability-limitations\n",
      "  warnings.warn(\n",
      "/Users/modzyuba1/anaconda3/lib/python3.11/site-packages/sklearn/base.py:347: InconsistentVersionWarning: Trying to unpickle estimator TfidfVectorizer from version 1.4.1.post1 when using version 1.3.0. This might lead to breaking code or invalid results. Use at your own risk. For more info please refer to:\n",
      "https://scikit-learn.org/stable/model_persistence.html#security-maintainability-limitations\n",
      "  warnings.warn(\n"
     ]
    }
   ],
   "source": [
    "predictor = Predictor()\n",
    "predictor.predict(path_to_test_data, path_to_model_ckpt, path_to_vectorizer_ckpt, path_to_submission)"
   ]
  },
  {
   "cell_type": "code",
   "execution_count": 16,
   "id": "319b8c40-1072-4a47-81df-8c771229f763",
   "metadata": {
    "tags": []
   },
   "outputs": [],
   "source": [
    "submission_tmp = pd.read_csv(os.path.join(PROJECT_ROOT, \"tmp\", \"submission_tmp.csv\"))"
   ]
  },
  {
   "cell_type": "code",
   "execution_count": 20,
   "id": "b4d89039-29d9-42e7-aedc-b39d1f84bdd5",
   "metadata": {
    "tags": []
   },
   "outputs": [],
   "source": [
    "assert submission_tmp.iloc[0][\"Category\"] == \"business\" and submission_tmp.iloc[0][\"ArticleId\"] == 1"
   ]
  },
  {
   "cell_type": "code",
   "execution_count": 21,
   "id": "d878636a-9ea1-48ad-8c11-5d16fa4a225a",
   "metadata": {
    "tags": []
   },
   "outputs": [],
   "source": [
    "assert submission_tmp.iloc[1][\"Category\"] == \"sport\" and submission_tmp.iloc[1][\"ArticleId\"] == 2"
   ]
  },
  {
   "cell_type": "markdown",
   "id": "cb655202-9214-47b3-8cd5-766f6148db80",
   "metadata": {},
   "source": [
    "## Tests: train"
   ]
  },
  {
   "cell_type": "code",
   "execution_count": 43,
   "id": "3cab526a-68f1-402b-9639-235566a8bb43",
   "metadata": {
    "tags": []
   },
   "outputs": [],
   "source": [
    "path_to_train_data = os.path.join(PROJECT_ROOT, config['data']['path_to_train_data'])\n",
    "path_to_vectorizer_ckpt = os.path.join(PROJECT_ROOT, config['tests']['path_to_tmp_vectorizer_ckpt'])\n",
    "path_to_model_ckpt = os.path.join(PROJECT_ROOT, config['tests']['path_to_tmp_model_ckpt'])"
   ]
  },
  {
   "cell_type": "code",
   "execution_count": 44,
   "id": "9dfed196-d4e3-46eb-a361-4d831cacd00d",
   "metadata": {},
   "outputs": [
    {
     "name": "stderr",
     "output_type": "stream",
     "text": [
      "[nltk_data] Downloading package wordnet to\n",
      "[nltk_data]     /Users/modzyuba1/nltk_data...\n",
      "[nltk_data]   Package wordnet is already up-to-date!\n",
      "[nltk_data] Downloading package punkt to /Users/modzyuba1/nltk_data...\n",
      "[nltk_data]   Package punkt is already up-to-date!\n",
      "[nltk_data] Downloading package stopwords to\n",
      "[nltk_data]     /Users/modzyuba1/nltk_data...\n",
      "[nltk_data]   Package stopwords is already up-to-date!\n"
     ]
    }
   ],
   "source": [
    "trainer = Trainer()\n",
    "trainer.train(path_to_train_data, path_to_model_ckpt, path_to_vectorizer_ckpt)"
   ]
  },
  {
   "cell_type": "code",
   "execution_count": 45,
   "id": "9929708c-51c1-475a-accf-37ffd8267b07",
   "metadata": {},
   "outputs": [],
   "source": [
    "assert os.path.exists(path_to_model_ckpt), \"Model was not saved after training\""
   ]
  },
  {
   "cell_type": "code",
   "execution_count": 46,
   "id": "df0f2722-66ed-4641-9c6b-cbcdad54ee40",
   "metadata": {
    "tags": []
   },
   "outputs": [],
   "source": [
    "assert os.path.exists(path_to_vectorizer_ckpt), \"Vectorizer was not saved after training\""
   ]
  },
  {
   "cell_type": "markdown",
   "id": "17d47496-7d17-4345-a2fb-2de529a61118",
   "metadata": {},
   "source": [
    "# Tests: validate"
   ]
  },
  {
   "cell_type": "code",
   "execution_count": 92,
   "id": "dfb3feab-25cf-4efd-a879-b80663e1c00a",
   "metadata": {
    "tags": []
   },
   "outputs": [],
   "source": [
    "path_to_train_data = os.path.join(PROJECT_ROOT, config['data']['path_to_train_data'])\n",
    "path_to_tmp_val_data = os.path.join(PROJECT_ROOT, config['tests']['path_to_tmp_val_data'])\n",
    "path_to_vectorizer_ckpt = os.path.join(PROJECT_ROOT, config['vectorizer']['path_to_vectorizer_ckpt'])\n",
    "path_to_dummy_model_ckpt = os.path.join(PROJECT_ROOT, config['tests']['path_to_dummy_model_ckpt'])\n",
    "path_to_tmp_metrics = os.path.join(PROJECT_ROOT, config['tests']['path_to_tmp_metrics'])"
   ]
  },
  {
   "cell_type": "code",
   "execution_count": 47,
   "id": "0d60523e-b0da-403c-a7a9-a2949857a955",
   "metadata": {
    "tags": []
   },
   "outputs": [],
   "source": [
    "val_df = pd.DataFrame({\n",
    "    \"ArticleId\": [1, 2, 3, 4, 5, 6, 7, 8, 9],\n",
    "    \"Text\": [\n",
    "        \"70s was a decade of legendary rock stars\",\n",
    "        \"Taylor Swift is a famous American singer\",\n",
    "        \"The goverment decided to increase taxes\",\n",
    "        \"It is the largest oil company in Japan\",\n",
    "        \"I think he is a great guitarist\",\n",
    "        \"Tell search engines that your website exists\",\n",
    "        \"LG releases a new flagship smartphone next month\",\n",
    "        \"He's the starting goalie on the hockey team\",\n",
    "        \"She wants to become an excellent long-distance swimmer\"\n",
    "    ],\n",
    "    \"Category\": [\n",
    "        \"entertainment\",\n",
    "        \"entertainment\",\n",
    "        \"politics\",\n",
    "        \"business\",\n",
    "        \"entertainment\",\n",
    "        \"tech\",\n",
    "        \"tech\",\n",
    "        \"sport\",\n",
    "        \"sport\",\n",
    "    ]\n",
    "})"
   ]
  },
  {
   "cell_type": "code",
   "execution_count": 48,
   "id": "3b0f00da-1f27-44f6-b42a-c14237776c3a",
   "metadata": {
    "tags": []
   },
   "outputs": [],
   "source": [
    "val_df.to_csv(os.path.join(PROJECT_ROOT, \"tmp\", \"val_tmp.csv\"), index=False)"
   ]
  },
  {
   "cell_type": "code",
   "execution_count": 50,
   "id": "e2a6ad20-dd0d-49e0-b1d2-ba22a296db4a",
   "metadata": {
    "tags": []
   },
   "outputs": [],
   "source": [
    "dummy = DummyClassifier(strategy=\"most_frequent\")"
   ]
  },
  {
   "cell_type": "code",
   "execution_count": 95,
   "id": "b80f56a2-8dec-4a20-bdd0-ec1c337a6422",
   "metadata": {
    "tags": []
   },
   "outputs": [
    {
     "data": {
      "text/html": [
       "<style>#sk-container-id-3 {color: black;}#sk-container-id-3 pre{padding: 0;}#sk-container-id-3 div.sk-toggleable {background-color: white;}#sk-container-id-3 label.sk-toggleable__label {cursor: pointer;display: block;width: 100%;margin-bottom: 0;padding: 0.3em;box-sizing: border-box;text-align: center;}#sk-container-id-3 label.sk-toggleable__label-arrow:before {content: \"▸\";float: left;margin-right: 0.25em;color: #696969;}#sk-container-id-3 label.sk-toggleable__label-arrow:hover:before {color: black;}#sk-container-id-3 div.sk-estimator:hover label.sk-toggleable__label-arrow:before {color: black;}#sk-container-id-3 div.sk-toggleable__content {max-height: 0;max-width: 0;overflow: hidden;text-align: left;background-color: #f0f8ff;}#sk-container-id-3 div.sk-toggleable__content pre {margin: 0.2em;color: black;border-radius: 0.25em;background-color: #f0f8ff;}#sk-container-id-3 input.sk-toggleable__control:checked~div.sk-toggleable__content {max-height: 200px;max-width: 100%;overflow: auto;}#sk-container-id-3 input.sk-toggleable__control:checked~label.sk-toggleable__label-arrow:before {content: \"▾\";}#sk-container-id-3 div.sk-estimator input.sk-toggleable__control:checked~label.sk-toggleable__label {background-color: #d4ebff;}#sk-container-id-3 div.sk-label input.sk-toggleable__control:checked~label.sk-toggleable__label {background-color: #d4ebff;}#sk-container-id-3 input.sk-hidden--visually {border: 0;clip: rect(1px 1px 1px 1px);clip: rect(1px, 1px, 1px, 1px);height: 1px;margin: -1px;overflow: hidden;padding: 0;position: absolute;width: 1px;}#sk-container-id-3 div.sk-estimator {font-family: monospace;background-color: #f0f8ff;border: 1px dotted black;border-radius: 0.25em;box-sizing: border-box;margin-bottom: 0.5em;}#sk-container-id-3 div.sk-estimator:hover {background-color: #d4ebff;}#sk-container-id-3 div.sk-parallel-item::after {content: \"\";width: 100%;border-bottom: 1px solid gray;flex-grow: 1;}#sk-container-id-3 div.sk-label:hover label.sk-toggleable__label {background-color: #d4ebff;}#sk-container-id-3 div.sk-serial::before {content: \"\";position: absolute;border-left: 1px solid gray;box-sizing: border-box;top: 0;bottom: 0;left: 50%;z-index: 0;}#sk-container-id-3 div.sk-serial {display: flex;flex-direction: column;align-items: center;background-color: white;padding-right: 0.2em;padding-left: 0.2em;position: relative;}#sk-container-id-3 div.sk-item {position: relative;z-index: 1;}#sk-container-id-3 div.sk-parallel {display: flex;align-items: stretch;justify-content: center;background-color: white;position: relative;}#sk-container-id-3 div.sk-item::before, #sk-container-id-3 div.sk-parallel-item::before {content: \"\";position: absolute;border-left: 1px solid gray;box-sizing: border-box;top: 0;bottom: 0;left: 50%;z-index: -1;}#sk-container-id-3 div.sk-parallel-item {display: flex;flex-direction: column;z-index: 1;position: relative;background-color: white;}#sk-container-id-3 div.sk-parallel-item:first-child::after {align-self: flex-end;width: 50%;}#sk-container-id-3 div.sk-parallel-item:last-child::after {align-self: flex-start;width: 50%;}#sk-container-id-3 div.sk-parallel-item:only-child::after {width: 0;}#sk-container-id-3 div.sk-dashed-wrapped {border: 1px dashed gray;margin: 0 0.4em 0.5em 0.4em;box-sizing: border-box;padding-bottom: 0.4em;background-color: white;}#sk-container-id-3 div.sk-label label {font-family: monospace;font-weight: bold;display: inline-block;line-height: 1.2em;}#sk-container-id-3 div.sk-label-container {text-align: center;}#sk-container-id-3 div.sk-container {/* jupyter's `normalize.less` sets `[hidden] { display: none; }` but bootstrap.min.css set `[hidden] { display: none !important; }` so we also need the `!important` here to be able to override the default hidden behavior on the sphinx rendered scikit-learn.org. See: https://github.com/scikit-learn/scikit-learn/issues/21755 */display: inline-block !important;position: relative;}#sk-container-id-3 div.sk-text-repr-fallback {display: none;}</style><div id=\"sk-container-id-3\" class=\"sk-top-container\"><div class=\"sk-text-repr-fallback\"><pre>DummyClassifier(strategy=&#x27;most_frequent&#x27;)</pre><b>In a Jupyter environment, please rerun this cell to show the HTML representation or trust the notebook. <br />On GitHub, the HTML representation is unable to render, please try loading this page with nbviewer.org.</b></div><div class=\"sk-container\" hidden><div class=\"sk-item\"><div class=\"sk-estimator sk-toggleable\"><input class=\"sk-toggleable__control sk-hidden--visually\" id=\"sk-estimator-id-3\" type=\"checkbox\" checked><label for=\"sk-estimator-id-3\" class=\"sk-toggleable__label sk-toggleable__label-arrow\">DummyClassifier</label><div class=\"sk-toggleable__content\"><pre>DummyClassifier(strategy=&#x27;most_frequent&#x27;)</pre></div></div></div></div></div>"
      ],
      "text/plain": [
       "DummyClassifier(strategy='most_frequent')"
      ]
     },
     "execution_count": 95,
     "metadata": {},
     "output_type": "execute_result"
    }
   ],
   "source": [
    "dummy.fit(train_features, y_train)"
   ]
  },
  {
   "cell_type": "code",
   "execution_count": 68,
   "id": "61479159-8392-4108-8176-22fcc317688b",
   "metadata": {
    "tags": []
   },
   "outputs": [],
   "source": [
    "val_df['Clean_text'] = val_df['Text'].apply(lambda x: clean_text(x))\n",
    "X_val = val_df['Clean_text'].tolist()\n",
    "val_features = tfidf_vectorizer.transform(X_val)\n",
    "y_val = val_df['Category'].to_list()"
   ]
  },
  {
   "cell_type": "code",
   "execution_count": 96,
   "id": "b1a7112f-7d13-4297-81fc-fd64d0c1105d",
   "metadata": {
    "tags": []
   },
   "outputs": [],
   "source": [
    "save_ckpt(dummy, path_to_dummy_model_ckpt)"
   ]
  },
  {
   "cell_type": "code",
   "execution_count": 106,
   "id": "f84499ac-a0d9-446a-b827-1cfca0142e37",
   "metadata": {
    "tags": []
   },
   "outputs": [
    {
     "name": "stderr",
     "output_type": "stream",
     "text": [
      "[nltk_data] Downloading package wordnet to\n",
      "[nltk_data]     /Users/modzyuba1/nltk_data...\n",
      "[nltk_data]   Package wordnet is already up-to-date!\n",
      "[nltk_data] Downloading package punkt to /Users/modzyuba1/nltk_data...\n",
      "[nltk_data]   Package punkt is already up-to-date!\n",
      "[nltk_data] Downloading package stopwords to\n",
      "[nltk_data]     /Users/modzyuba1/nltk_data...\n",
      "[nltk_data]   Package stopwords is already up-to-date!\n",
      "/Users/modzyuba1/anaconda3/lib/python3.11/site-packages/sklearn/base.py:347: InconsistentVersionWarning: Trying to unpickle estimator TfidfTransformer from version 1.4.1.post1 when using version 1.3.0. This might lead to breaking code or invalid results. Use at your own risk. For more info please refer to:\n",
      "https://scikit-learn.org/stable/model_persistence.html#security-maintainability-limitations\n",
      "  warnings.warn(\n",
      "/Users/modzyuba1/anaconda3/lib/python3.11/site-packages/sklearn/base.py:347: InconsistentVersionWarning: Trying to unpickle estimator TfidfVectorizer from version 1.4.1.post1 when using version 1.3.0. This might lead to breaking code or invalid results. Use at your own risk. For more info please refer to:\n",
      "https://scikit-learn.org/stable/model_persistence.html#security-maintainability-limitations\n",
      "  warnings.warn(\n",
      "/Users/modzyuba1/anaconda3/lib/python3.11/site-packages/sklearn/metrics/_classification.py:1469: UndefinedMetricWarning: Precision is ill-defined and being set to 0.0 in labels with no predicted samples. Use `zero_division` parameter to control this behavior.\n",
      "  _warn_prf(average, modifier, msg_start, len(result))\n"
     ]
    }
   ],
   "source": [
    "validator = Validator()\n",
    "validator.validate(path_to_tmp_val_data, path_to_dummy_model_ckpt, path_to_vectorizer_ckpt, path_to_tmp_metrics)"
   ]
  },
  {
   "cell_type": "code",
   "execution_count": 94,
   "id": "3b0b7aeb-0207-4e85-8734-d6dc975c8f98",
   "metadata": {
    "tags": []
   },
   "outputs": [
    {
     "data": {
      "text/plain": [
       "0.1111111111111111"
      ]
     },
     "execution_count": 94,
     "metadata": {},
     "output_type": "execute_result"
    }
   ],
   "source": [
    "accuracy_score([\n",
    "        \"entertainment\",\n",
    "        \"entertainment\",\n",
    "        \"politics\",\n",
    "        \"business\",\n",
    "        \"entertainment\",\n",
    "        \"tech\",\n",
    "        \"tech\",\n",
    "        \"sport\",\n",
    "        \"sport\",\n",
    "    ], [\"business\" for x in range(9)])"
   ]
  },
  {
   "cell_type": "code",
   "execution_count": 99,
   "id": "cde6683c-a587-4b16-91f0-6e09c477f471",
   "metadata": {
    "tags": []
   },
   "outputs": [
    {
     "data": {
      "text/plain": [
       "0.1111111111111111"
      ]
     },
     "execution_count": 99,
     "metadata": {},
     "output_type": "execute_result"
    }
   ],
   "source": [
    "1 / 9"
   ]
  },
  {
   "cell_type": "code",
   "execution_count": 90,
   "id": "fa9af2f5-b669-4f30-833e-0e2fc9cdb1cb",
   "metadata": {
    "tags": []
   },
   "outputs": [
    {
     "data": {
      "text/plain": [
       "array(['business'], dtype='<U8')"
      ]
     },
     "execution_count": 90,
     "metadata": {},
     "output_type": "execute_result"
    }
   ],
   "source": [
    "dummy.predict(['sport'])"
   ]
  },
  {
   "cell_type": "code",
   "execution_count": 101,
   "id": "e3152645-5a6f-4a15-ba5d-c129b0264b54",
   "metadata": {
    "tags": []
   },
   "outputs": [],
   "source": [
    "tmp_metrics = pd.read_csv(path_to_tmp_metrics)"
   ]
  },
  {
   "cell_type": "code",
   "execution_count": 102,
   "id": "80def81a-1bb4-4dd1-8ca9-a2eb0ecf5b9d",
   "metadata": {
    "tags": []
   },
   "outputs": [],
   "source": [
    "assert tmp_metrics.iloc[0][\"metric\"] == \"f1_macro\" and round(tmp_metrics.iloc[0][\"value\"], 2) == 0.04"
   ]
  },
  {
   "cell_type": "code",
   "execution_count": 103,
   "id": "1c38256b-e7fb-425e-8dc5-f9bab62884f9",
   "metadata": {
    "tags": []
   },
   "outputs": [],
   "source": [
    "assert tmp_metrics.iloc[1][\"metric\"] == \"accuracy\" and round(tmp_metrics.iloc[1][\"value\"], 2) == 0.11"
   ]
  },
  {
   "cell_type": "code",
   "execution_count": 104,
   "id": "54659795-fff9-4f67-8d69-48951c1dacbb",
   "metadata": {
    "tags": []
   },
   "outputs": [],
   "source": [
    "assert tmp_metrics.iloc[2][\"metric\"] == \"precision_macro\" and round(tmp_metrics.iloc[2][\"value\"], 2) == 0.02"
   ]
  },
  {
   "cell_type": "code",
   "execution_count": 105,
   "id": "4041e717-f392-4ee6-8973-4843654ed76d",
   "metadata": {
    "tags": []
   },
   "outputs": [],
   "source": [
    "assert tmp_metrics.iloc[3][\"metric\"] == \"recall_macro\" and round(tmp_metrics.iloc[3][\"value\"], 2) == 0.2"
   ]
  },
  {
   "cell_type": "markdown",
   "id": "7309f0cb-d57f-4d92-a797-24d9cb25f649",
   "metadata": {},
   "source": [
    "# Test: preprocess"
   ]
  },
  {
   "cell_type": "code",
   "execution_count": 107,
   "id": "04479389-402f-46e0-aafd-5a971d9da651",
   "metadata": {
    "tags": []
   },
   "outputs": [],
   "source": [
    "path_to_tmp_test_data = os.path.join(PROJECT_ROOT, config['tests']['path_to_tmp_test_data'])"
   ]
  },
  {
   "cell_type": "code",
   "execution_count": 108,
   "id": "79b864f8-7557-4cea-a0a0-f67eb45b4733",
   "metadata": {
    "tags": []
   },
   "outputs": [
    {
     "name": "stderr",
     "output_type": "stream",
     "text": [
      "[nltk_data] Downloading package wordnet to\n",
      "[nltk_data]     /Users/modzyuba1/nltk_data...\n",
      "[nltk_data]   Package wordnet is already up-to-date!\n",
      "[nltk_data] Downloading package punkt to /Users/modzyuba1/nltk_data...\n",
      "[nltk_data]   Package punkt is already up-to-date!\n",
      "[nltk_data] Downloading package stopwords to\n",
      "[nltk_data]     /Users/modzyuba1/nltk_data...\n",
      "[nltk_data]   Package stopwords is already up-to-date!\n"
     ]
    }
   ],
   "source": [
    "preprocessor = Preprocessor()"
   ]
  },
  {
   "cell_type": "code",
   "execution_count": 117,
   "id": "e3483fd7-edd3-42bc-b795-45698f6fc50d",
   "metadata": {
    "tags": []
   },
   "outputs": [],
   "source": [
    "is_test_false = preprocessor.load_and_preprocess_data(path_to_tmp_test_data, isTest=False)"
   ]
  },
  {
   "cell_type": "code",
   "execution_count": 118,
   "id": "af770092-77a9-470e-9682-5a01ec1022b8",
   "metadata": {
    "tags": []
   },
   "outputs": [],
   "source": [
    "is_test_true = preprocessor.load_and_preprocess_data(path_to_tmp_test_data, isTest=True)"
   ]
  },
  {
   "cell_type": "code",
   "execution_count": 127,
   "id": "d60aa158-d0fb-445a-b6c8-6a1d1954331e",
   "metadata": {},
   "outputs": [],
   "source": [
    "assert type(is_test_false) is tuple"
   ]
  },
  {
   "cell_type": "code",
   "execution_count": 126,
   "id": "77e22c14-8b18-4cbc-8595-03dc7e4edc7d",
   "metadata": {
    "tags": []
   },
   "outputs": [],
   "source": [
    "assert type(is_test_true) is list"
   ]
  },
  {
   "cell_type": "code",
   "execution_count": 128,
   "id": "1ba54a01-0738-404a-a00a-50c38ead4fcc",
   "metadata": {
    "tags": []
   },
   "outputs": [],
   "source": [
    "X_train, y_train = is_test_false"
   ]
  },
  {
   "cell_type": "code",
   "execution_count": 129,
   "id": "b028d111-a219-4035-9fce-3e2c3638fceb",
   "metadata": {
    "tags": []
   },
   "outputs": [],
   "source": [
    "X_test = is_test_false"
   ]
  },
  {
   "cell_type": "code",
   "execution_count": 134,
   "id": "0171bccf-f334-4a43-9288-f5c3feec2919",
   "metadata": {
    "tags": []
   },
   "outputs": [],
   "source": [
    "assert X_train[0] == 'business good' and X_train[1] == 'football popular sport'"
   ]
  },
  {
   "cell_type": "code",
   "execution_count": null,
   "id": "f90167d6-164b-41bc-b015-40a9023a629b",
   "metadata": {},
   "outputs": [],
   "source": []
  }
 ],
 "metadata": {
  "kernelspec": {
   "display_name": "Python 3 (ipykernel)",
   "language": "python",
   "name": "python3"
  },
  "language_info": {
   "codemirror_mode": {
    "name": "ipython",
    "version": 3
   },
   "file_extension": ".py",
   "mimetype": "text/x-python",
   "name": "python",
   "nbconvert_exporter": "python",
   "pygments_lexer": "ipython3",
   "version": "3.11.5"
  }
 },
 "nbformat": 4,
 "nbformat_minor": 5
}
